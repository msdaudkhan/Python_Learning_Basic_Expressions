{
 "cells": [
  {
   "cell_type": "markdown",
   "id": "feb8719c",
   "metadata": {},
   "source": [
    "# Execute Python Syntax"
   ]
  },
  {
   "cell_type": "code",
   "execution_count": 1,
   "id": "40e97088",
   "metadata": {},
   "outputs": [
    {
     "name": "stdout",
     "output_type": "stream",
     "text": [
      "Hello World\n"
     ]
    }
   ],
   "source": [
    "#printing Hello World\n",
    "print(\"Hello World\")"
   ]
  },
  {
   "cell_type": "code",
   "execution_count": 2,
   "id": "de980c4e",
   "metadata": {},
   "outputs": [
    {
     "name": "stdout",
     "output_type": "stream",
     "text": [
      "2 , 3\n"
     ]
    }
   ],
   "source": [
    "#printing int by syntax it will return this\n",
    "print(\"2 , 3\")"
   ]
  },
  {
   "cell_type": "code",
   "execution_count": 3,
   "id": "21613c88",
   "metadata": {},
   "outputs": [
    {
     "name": "stdout",
     "output_type": "stream",
     "text": [
      "23+45\n"
     ]
    }
   ],
   "source": [
    "#printing adding in syntax it will return this\n",
    "print(\"23+45\")"
   ]
  },
  {
   "cell_type": "code",
   "execution_count": 4,
   "id": "1e92b97f",
   "metadata": {},
   "outputs": [
    {
     "name": "stdout",
     "output_type": "stream",
     "text": [
      "hey i am Muhammad Khan, how are you doing!\n"
     ]
    }
   ],
   "source": [
    "#writting anything in syntax will return this way\n",
    "print(\"hey i am Muhammad Khan, how are you doing!\")"
   ]
  },
  {
   "cell_type": "markdown",
   "id": "d632e19a",
   "metadata": {},
   "source": [
    "# Python Indentation"
   ]
  },
  {
   "cell_type": "code",
   "execution_count": 5,
   "id": "5747d763",
   "metadata": {},
   "outputs": [
    {
     "name": "stdout",
     "output_type": "stream",
     "text": [
      "five is greater then two\n"
     ]
    }
   ],
   "source": [
    "if 5 > 2:\n",
    "    print(\"five is greater then two\")"
   ]
  },
  {
   "cell_type": "code",
   "execution_count": 6,
   "id": "74dde081",
   "metadata": {},
   "outputs": [
    {
     "name": "stdout",
     "output_type": "stream",
     "text": [
      "correct answer\n"
     ]
    }
   ],
   "source": [
    "if 5 > 1:\n",
    "    print(\"correct answer\")"
   ]
  },
  {
   "cell_type": "code",
   "execution_count": 7,
   "id": "f77e1373",
   "metadata": {},
   "outputs": [
    {
     "ename": "SyntaxError",
     "evalue": "invalid character in identifier (438714540.py, line 2)",
     "output_type": "error",
     "traceback": [
      "\u001b[0;36m  File \u001b[0;32m\"/tmp/ipykernel_48212/438714540.py\"\u001b[0;36m, line \u001b[0;32m2\u001b[0m\n\u001b[0;31m    if 5 ≤ 2:\u001b[0m\n\u001b[0m         ^\u001b[0m\n\u001b[0;31mSyntaxError\u001b[0m\u001b[0;31m:\u001b[0m invalid character in identifier\n"
     ]
    }
   ],
   "source": [
    "#it will give error if 5 is not greater then lets see\n",
    "if 5 ≤ 2:\n",
    "    print(\"wrong answer\")"
   ]
  },
  {
   "cell_type": "markdown",
   "id": "a58f2105",
   "metadata": {},
   "source": [
    "# I make some Python Variables codes"
   ]
  },
  {
   "cell_type": "code",
   "execution_count": 8,
   "id": "354df2ac",
   "metadata": {},
   "outputs": [
    {
     "name": "stdout",
     "output_type": "stream",
     "text": [
      "1\n",
      "how are you\n"
     ]
    }
   ],
   "source": [
    "x = 1\n",
    "b = \"how are you\"\n",
    "print(x)\n",
    "print(b)"
   ]
  },
  {
   "cell_type": "code",
   "execution_count": 9,
   "id": "b9afe328",
   "metadata": {},
   "outputs": [
    {
     "name": "stdout",
     "output_type": "stream",
     "text": [
      " what are you doing john\n"
     ]
    }
   ],
   "source": [
    "x = \"john\"\n",
    "b =\" what are you doing\"\n",
    "print(b,x)"
   ]
  },
  {
   "cell_type": "code",
   "execution_count": 10,
   "id": "8aaadcaf",
   "metadata": {},
   "outputs": [
    {
     "name": "stdout",
     "output_type": "stream",
     "text": [
      "welcome Khan\n"
     ]
    }
   ],
   "source": [
    "# welcome khan\n",
    "a = \"welcome\"\n",
    "b = \"Khan\"\n",
    "print(a,b)"
   ]
  },
  {
   "cell_type": "markdown",
   "id": "379d529a",
   "metadata": {},
   "source": [
    "# comments in python \n",
    "\n"
   ]
  },
  {
   "cell_type": "code",
   "execution_count": 11,
   "id": "8d34ccdc",
   "metadata": {},
   "outputs": [
    {
     "name": "stdout",
     "output_type": "stream",
     "text": [
      "5\n"
     ]
    }
   ],
   "source": [
    "#using# means comminting something i will add two numbers\n",
    "\n",
    "print (2+3)"
   ]
  },
  {
   "cell_type": "markdown",
   "id": "19b7b655",
   "metadata": {},
   "source": [
    "# multi line comment"
   ]
  },
  {
   "cell_type": "code",
   "execution_count": 12,
   "id": "f9abe8eb",
   "metadata": {},
   "outputs": [
    {
     "data": {
      "text/plain": [
       "' hey \\nhow are \\nyou'"
      ]
     },
     "execution_count": 12,
     "metadata": {},
     "output_type": "execute_result"
    }
   ],
   "source": [
    "\"\"\" hey \n",
    "how are \n",
    "you\"\"\""
   ]
  },
  {
   "cell_type": "markdown",
   "id": "fa5e9a16",
   "metadata": {},
   "source": [
    "# sum of two variable\n"
   ]
  },
  {
   "cell_type": "code",
   "execution_count": 14,
   "id": "fb753037",
   "metadata": {},
   "outputs": [
    {
     "name": "stdout",
     "output_type": "stream",
     "text": [
      "5\n"
     ]
    }
   ],
   "source": [
    "x = 3\n",
    "y = 2\n",
    "print(x + y)"
   ]
  },
  {
   "cell_type": "code",
   "execution_count": 16,
   "id": "58a65e68",
   "metadata": {},
   "outputs": [
    {
     "name": "stdout",
     "output_type": "stream",
     "text": [
      "5\n"
     ]
    }
   ],
   "source": [
    "x = 3\n",
    "y = 2\n",
    "z = x + y\n",
    "print(z)"
   ]
  },
  {
   "cell_type": "markdown",
   "id": "f7c51e65",
   "metadata": {},
   "source": [
    "# Casting"
   ]
  },
  {
   "cell_type": "code",
   "execution_count": 20,
   "id": "c0b3192a",
   "metadata": {},
   "outputs": [
    {
     "name": "stdout",
     "output_type": "stream",
     "text": [
      "334\n",
      "433\n",
      "3446546.0\n"
     ]
    }
   ],
   "source": [
    "#If you want to specify the data type of a variable, this can be done with casting.\n",
    "x = str(334)    # x will be '3'\n",
    "y = int(433)    # y will be 3\n",
    "z = float(3446546)  # z will be 3.0\n",
    "print(x)\n",
    "print(y)\n",
    "print(z)"
   ]
  },
  {
   "cell_type": "markdown",
   "id": "ee082af0",
   "metadata": {},
   "source": [
    "# Get the Type"
   ]
  },
  {
   "cell_type": "code",
   "execution_count": 21,
   "id": "3dd5f0af",
   "metadata": {},
   "outputs": [
    {
     "name": "stdout",
     "output_type": "stream",
     "text": [
      "<class 'int'>\n",
      "<class 'str'>\n"
     ]
    }
   ],
   "source": [
    "#by write type() it show the what kind of type is it:\n",
    "b = 2\n",
    "c = \"hey khan\"\n",
    "\n",
    "print(type(b))\n",
    "print(type(c))"
   ]
  },
  {
   "cell_type": "markdown",
   "id": "b8d83925",
   "metadata": {},
   "source": [
    "# Single or Double Quotes?"
   ]
  },
  {
   "cell_type": "code",
   "execution_count": 23,
   "id": "b71e4c8b",
   "metadata": {},
   "outputs": [
    {
     "name": "stdout",
     "output_type": "stream",
     "text": [
      "khan\n",
      "daud\n"
     ]
    }
   ],
   "source": [
    "x = 'khan'\n",
    "y = \"daud\"\n",
    "print(x)\n",
    "print(y)"
   ]
  },
  {
   "cell_type": "code",
   "execution_count": 24,
   "id": "5640fa28",
   "metadata": {},
   "outputs": [
    {
     "name": "stdout",
     "output_type": "stream",
     "text": [
      "34\n",
      "hi\n"
     ]
    }
   ],
   "source": [
    "#it will not over write because python is sensitive with case letter\n",
    "B = 34\n",
    "b = \"hi\"\n",
    "print(B)\n",
    "print(b)"
   ]
  },
  {
   "cell_type": "code",
   "execution_count": null,
   "id": "b91eabac",
   "metadata": {},
   "outputs": [],
   "source": []
  }
 ],
 "metadata": {
  "kernelspec": {
   "display_name": "Python 3 (ipykernel)",
   "language": "python",
   "name": "python3"
  },
  "language_info": {
   "codemirror_mode": {
    "name": "ipython",
    "version": 3
   },
   "file_extension": ".py",
   "mimetype": "text/x-python",
   "name": "python",
   "nbconvert_exporter": "python",
   "pygments_lexer": "ipython3",
   "version": "3.8.12"
  }
 },
 "nbformat": 4,
 "nbformat_minor": 5
}
